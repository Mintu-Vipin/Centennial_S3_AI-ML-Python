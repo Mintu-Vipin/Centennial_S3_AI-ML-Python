{
  "nbformat": 4,
  "nbformat_minor": 0,
  "metadata": {
    "colab": {
      "name": "MintuVipinJoy_COMP258Lab1_Ex1.ipynb",
      "provenance": [],
      "collapsed_sections": [],
      "authorship_tag": "ABX9TyP9EyWNaP1YiUyWN7EbI0RY",
      "include_colab_link": true
    },
    "kernelspec": {
      "name": "python3",
      "display_name": "Python 3"
    },
    "language_info": {
      "name": "python"
    }
  },
  "cells": [
    {
      "cell_type": "markdown",
      "metadata": {
        "id": "view-in-github",
        "colab_type": "text"
      },
      "source": [
        "<a href=\"https://colab.research.google.com/github/Mintu-Vipin/COMP257-UR/blob/master/MintuVipinJoy_COMP258Lab1_Ex1.ipynb\" target=\"_parent\"><img src=\"https://colab.research.google.com/assets/colab-badge.svg\" alt=\"Open In Colab\"/></a>"
      ]
    },
    {
      "cell_type": "markdown",
      "metadata": {
        "id": "kHao_AzUDfj2"
      },
      "source": [
        "Mintu Vipin Joy\n",
        "\n",
        "Student ID:301135483"
      ]
    },
    {
      "cell_type": "markdown",
      "metadata": {
        "id": "Z-HJGqMJD2T9"
      },
      "source": [
        "## **Assignment 1** -----  **Exercise 1**\n",
        "\n",
        "\n",
        "---\n",
        "\n",
        "\n",
        "\n",
        "\n",
        "\n",
        "\n",
        "\n",
        "\n",
        "\n"
      ]
    },
    {
      "cell_type": "markdown",
      "metadata": {
        "id": "5YfIUqcf1p78"
      },
      "source": [
        "**Data**"
      ]
    },
    {
      "cell_type": "code",
      "metadata": {
        "id": "kz_0838GCTFb"
      },
      "source": [
        "# Training Letters\n",
        "\n",
        "import numpy as np\n",
        "\n",
        "training_letters = []\n",
        "\n",
        "#1A\n",
        "training_letters.append(np.array([0,0,2,2,0,0,0,0,0,0,2,0,0,0,0,0,0,2,0,0,0,0,0,2,0,2,0,0,\n",
        "        0,0,2,0,2,0,0,0,2,2,2,2,2,0,0,2,0,0,0,2,0,0,2,0,0,0,2,0,2,2,2,0,2,2,2]))\n",
        "#1B\n",
        "training_letters.append(np.array([2,2,2,2,2,2,0,0,2,0,0,0,0,2,0,2,0,0,0,0,2,0,2,0,0,0,0,2,\n",
        "        0,2,2,2,2,2,0,0,2,0,0,0,0,2,0,2,0,0,0,0,2,0,2,0,0,0,0,2,2,2,2,2,2,2,0]))\n",
        "#1C\n",
        "training_letters.append(np.array([0,0,2,2,2,2,2,0,2,0,0,0,0,2,2,0,0,0,0,0,0,2,0,0,0,0,0,0,\n",
        "        2,0,0,0,0,0,0,2,0,0,0,0,0,0,2,0,0,0,0,0,0,0,2,0,0,0,0,2,0,0,2,2,2,2,0]))\n",
        "#1D\n",
        "training_letters.append(np.array([2,2,2,2,2,0,0,0,2,0,0,0,2,0,0,2,0,0,0,0,2,0,2,0,0,0,0,2,\n",
        "        0,2,0,0,0,0,2,0,2,0,0,0,0,2,0,2,0,0,0,0,2,0,2,0,0,0,2,0,2,2,2,2,2,0,0]))\n",
        "#1E\n",
        "training_letters.append(np.array([2,2,2,2,2,2,2,0,2,0,0,0,0,2,0,2,0,0,0,0,0,0,2,0,2,0,0,0,\n",
        "        0,2,2,2,0,0,0,0,2,0,2,0,0,0,0,2,0,0,0,0,0,0,2,0,0,0,0,2,2,2,2,2,2,2,2]))\n",
        "#1J\n",
        "training_letters.append(np.array([0,0,0,2,2,2,2,0,0,0,0,0,2,0,0,0,0,0,0,2,0,0,0,0,0,0,2,0,\n",
        "        0,0,0,0,0,2,0,0,0,0,0,0,2,0,0,2,0,0,0,2,0,0,2,0,0,0,2,0,0,0,2,2,2,0,0]))\n",
        "#1K\n",
        "training_letters.append(np.array([2,2,2,0,0,2,2,0,2,0,0,2,0,0,0,2,0,2,0,0,0,0,2,2,0,0,0,0,\n",
        "        0,2,2,0,0,0,0,0,2,0,2,0,0,0,0,2,0,0,2,0,0,0,2,0,0,0,2,0,2,2,2,0,0,2,2]))\n",
        "\n",
        "#2A\n",
        "training_letters.append(np.array([0,0,0,2,0,0,0,0,0,0,2,0,0,0,0,0,0,2,0,0,0,0,0,2,0,2,0,0,\n",
        "        0,0,2,0,2,0,0,0,2,0,0,0,2,0,0,2,2,2,2,2,0,0,2,0,0,0,2,0,0,2,0,0,0,2,0]))\n",
        "#2B\n",
        "training_letters.append(np.array([2,2,2,2,2,2,0,2,0,0,0,0,0,2,2,0,0,0,0,0,2,2,0,0,0,0,0,2,\n",
        "        2,2,2,2,2,2,0,2,0,0,0,0,0,2,2,0,0,0,0,0,2,2,0,0,0,0,0,2,2,2,2,2,2,2,0]))\n",
        "#2C\n",
        "training_letters.append(np.array([0,0,2,2,2,0,0,0,2,0,0,0,2,0,2,0,0,0,0,0,2,2,0,0,0,0,0,0,\n",
        "        2,0,0,0,0,0,0,2,0,0,0,0,0,0,2,0,0,0,0,0,2,0,2,0,0,0,2,0,0,0,2,2,2,0,0]))\n",
        "#2D\n",
        "training_letters.append(np.array([2,2,2,2,2,0,0,2,0,0,0,0,2,0,2,0,0,0,0,0,2,2,0,0,0,0,0,2,\n",
        "        2,0,0,0,0,0,2,2,0,0,0,0,0,2,2,0,0,0,0,0,2,2,0,0,0,0,2,0,2,2,2,2,2,0,0]))\n",
        "#2E\n",
        "training_letters.append(np.array([2,2,2,2,2,2,2,2,0,0,0,0,0,0,2,0,0,0,0,0,0,2,0,0,0,0,0,0,\n",
        "        2,2,2,2,2,0,0,2,0,0,0,0,0,0,2,0,0,0,0,0,0,2,0,0,0,0,0,0,2,2,2,2,2,2,2]))\n",
        "#2J\n",
        "training_letters.append(np.array([0,0,0,0,0,2,0,0,0,0,0,0,2,0,0,0,0,0,0,2,0,0,0,0,0,0,2,0,\n",
        "        0,0,0,0,0,2,0,0,0,0,0,0,2,0,0,2,0,0,0,2,0,0,2,0,0,0,2,0,0,0,2,2,2,0,0]))\n",
        "#2K\n",
        "training_letters.append(np.array([2,0,0,0,0,2,0,2,0,0,0,2,0,0,2,0,0,2,0,0,0,2,0,2,0,0,0,0,\n",
        "        2,2,0,0,0,0,0,2,0,2,0,0,0,0,2,0,0,2,0,0,0,2,0,0,0,2,0,0,2,0,0,0,0,2,0]))\n",
        "\n",
        "#3A\n",
        "training_letters.append(np.array([0,0,0,2,0,0,0,0,0,0,2,0,0,0,0,0,2,0,2,0,0,0,0,2,0,2,0,0,\n",
        "        0,2,0,0,0,2,0,0,2,2,2,2,2,0,2,0,0,0,0,0,2,2,0,0,0,0,0,2,2,2,0,0,0,2,2]))\n",
        "#3B\n",
        "training_letters.append(np.array([2,2,2,2,2,2,0,0,2,0,0,0,0,2,0,2,0,0,0,0,2,0,2,2,2,2,2,0,0,\n",
        "        2,0,0,0,0,2,0,2,0,0,0,0,2,0,2,0,0,0,0,2,0,2,0,0,0,0,2,2,2,2,2,2,2,0]))\n",
        "#3C\n",
        "training_letters.append(np.array([0,0,2,2,2,0,2,0,2,0,0,0,2,2,2,0,0,0,0,0,2,2,0,0,0,0,0,0,\n",
        "        2,0,0,0,0,0,0,2,0,0,0,0,0,0,2,0,0,0,0,0,2,0,2,0,0,0,2,0,0,0,2,2,2,0,0]))\n",
        "#3D\n",
        "training_letters.append(np.array([2,2,2,2,2,0,0,0,2,0,0,0,2,0,0,2,0,0,0,0,2,0,2,0,0,0,0,2,\n",
        "        0,2,0,0,0,0,2,0,2,0,0,0,0,2,0,2,0,0,0,0,2,0,2,0,0,0,2,0,2,2,2,2,2,0,0]))\n",
        "#3E\n",
        "training_letters.append(np.array([2,2,2,2,2,2,2,0,2,0,0,0,0,2,0,2,0,0,2,0,0,0,2,2,2,2,0,0,\n",
        "        0,2,0,0,2,0,0,0,2,0,0,0,0,0,0,2,0,0,0,0,0,0,2,0,0,0,0,2,2,2,2,2,2,2,2]))\n",
        "#3J\n",
        "training_letters.append(np.array([0,0,0,0,2,2,2,0,0,0,0,0,2,0,0,0,0,0,0,2,0,0,0,0,0,0,2,0,\n",
        "        0,0,0,0,0,2,0,0,0,0,0,0,2,0,0,0,0,0,0,2,0,0,2,0,0,0,2,0,0,0,2,2,2,0,0]))\n",
        "#3K\n",
        "training_letters.append(np.array([2,2,2,0,0,2,2,0,2,0,0,0,2,0,0,2,0,0,2,0,0,0,2,0,2,0,0,0,\n",
        "        0,2,2,0,0,0,0,0,2,0,2,0,0,0,0,2,0,0,2,0,0,0,2,0,0,0,2,0,2,2,2,0,0,2,2]))\n"
      ],
      "execution_count": 1,
      "outputs": []
    },
    {
      "cell_type": "code",
      "metadata": {
        "colab": {
          "base_uri": "https://localhost:8080/"
        },
        "id": "KRkYC7qxcppS",
        "outputId": "8ab419bc-fda9-48ef-9f6f-e8efae124c4c"
      },
      "source": [
        " training_letters"
      ],
      "execution_count": 2,
      "outputs": [
        {
          "output_type": "execute_result",
          "data": {
            "text/plain": [
              "[array([0, 0, 2, 2, 0, 0, 0, 0, 0, 0, 2, 0, 0, 0, 0, 0, 0, 2, 0, 0, 0, 0,\n",
              "        0, 2, 0, 2, 0, 0, 0, 0, 2, 0, 2, 0, 0, 0, 2, 2, 2, 2, 2, 0, 0, 2,\n",
              "        0, 0, 0, 2, 0, 0, 2, 0, 0, 0, 2, 0, 2, 2, 2, 0, 2, 2, 2]),\n",
              " array([2, 2, 2, 2, 2, 2, 0, 0, 2, 0, 0, 0, 0, 2, 0, 2, 0, 0, 0, 0, 2, 0,\n",
              "        2, 0, 0, 0, 0, 2, 0, 2, 2, 2, 2, 2, 0, 0, 2, 0, 0, 0, 0, 2, 0, 2,\n",
              "        0, 0, 0, 0, 2, 0, 2, 0, 0, 0, 0, 2, 2, 2, 2, 2, 2, 2, 0]),\n",
              " array([0, 0, 2, 2, 2, 2, 2, 0, 2, 0, 0, 0, 0, 2, 2, 0, 0, 0, 0, 0, 0, 2,\n",
              "        0, 0, 0, 0, 0, 0, 2, 0, 0, 0, 0, 0, 0, 2, 0, 0, 0, 0, 0, 0, 2, 0,\n",
              "        0, 0, 0, 0, 0, 0, 2, 0, 0, 0, 0, 2, 0, 0, 2, 2, 2, 2, 0]),\n",
              " array([2, 2, 2, 2, 2, 0, 0, 0, 2, 0, 0, 0, 2, 0, 0, 2, 0, 0, 0, 0, 2, 0,\n",
              "        2, 0, 0, 0, 0, 2, 0, 2, 0, 0, 0, 0, 2, 0, 2, 0, 0, 0, 0, 2, 0, 2,\n",
              "        0, 0, 0, 0, 2, 0, 2, 0, 0, 0, 2, 0, 2, 2, 2, 2, 2, 0, 0]),\n",
              " array([2, 2, 2, 2, 2, 2, 2, 0, 2, 0, 0, 0, 0, 2, 0, 2, 0, 0, 0, 0, 0, 0,\n",
              "        2, 0, 2, 0, 0, 0, 0, 2, 2, 2, 0, 0, 0, 0, 2, 0, 2, 0, 0, 0, 0, 2,\n",
              "        0, 0, 0, 0, 0, 0, 2, 0, 0, 0, 0, 2, 2, 2, 2, 2, 2, 2, 2]),\n",
              " array([0, 0, 0, 2, 2, 2, 2, 0, 0, 0, 0, 0, 2, 0, 0, 0, 0, 0, 0, 2, 0, 0,\n",
              "        0, 0, 0, 0, 2, 0, 0, 0, 0, 0, 0, 2, 0, 0, 0, 0, 0, 0, 2, 0, 0, 2,\n",
              "        0, 0, 0, 2, 0, 0, 2, 0, 0, 0, 2, 0, 0, 0, 2, 2, 2, 0, 0]),\n",
              " array([2, 2, 2, 0, 0, 2, 2, 0, 2, 0, 0, 2, 0, 0, 0, 2, 0, 2, 0, 0, 0, 0,\n",
              "        2, 2, 0, 0, 0, 0, 0, 2, 2, 0, 0, 0, 0, 0, 2, 0, 2, 0, 0, 0, 0, 2,\n",
              "        0, 0, 2, 0, 0, 0, 2, 0, 0, 0, 2, 0, 2, 2, 2, 0, 0, 2, 2]),\n",
              " array([0, 0, 0, 2, 0, 0, 0, 0, 0, 0, 2, 0, 0, 0, 0, 0, 0, 2, 0, 0, 0, 0,\n",
              "        0, 2, 0, 2, 0, 0, 0, 0, 2, 0, 2, 0, 0, 0, 2, 0, 0, 0, 2, 0, 0, 2,\n",
              "        2, 2, 2, 2, 0, 0, 2, 0, 0, 0, 2, 0, 0, 2, 0, 0, 0, 2, 0]),\n",
              " array([2, 2, 2, 2, 2, 2, 0, 2, 0, 0, 0, 0, 0, 2, 2, 0, 0, 0, 0, 0, 2, 2,\n",
              "        0, 0, 0, 0, 0, 2, 2, 2, 2, 2, 2, 2, 0, 2, 0, 0, 0, 0, 0, 2, 2, 0,\n",
              "        0, 0, 0, 0, 2, 2, 0, 0, 0, 0, 0, 2, 2, 2, 2, 2, 2, 2, 0]),\n",
              " array([0, 0, 2, 2, 2, 0, 0, 0, 2, 0, 0, 0, 2, 0, 2, 0, 0, 0, 0, 0, 2, 2,\n",
              "        0, 0, 0, 0, 0, 0, 2, 0, 0, 0, 0, 0, 0, 2, 0, 0, 0, 0, 0, 0, 2, 0,\n",
              "        0, 0, 0, 0, 2, 0, 2, 0, 0, 0, 2, 0, 0, 0, 2, 2, 2, 0, 0]),\n",
              " array([2, 2, 2, 2, 2, 0, 0, 2, 0, 0, 0, 0, 2, 0, 2, 0, 0, 0, 0, 0, 2, 2,\n",
              "        0, 0, 0, 0, 0, 2, 2, 0, 0, 0, 0, 0, 2, 2, 0, 0, 0, 0, 0, 2, 2, 0,\n",
              "        0, 0, 0, 0, 2, 2, 0, 0, 0, 0, 2, 0, 2, 2, 2, 2, 2, 0, 0]),\n",
              " array([2, 2, 2, 2, 2, 2, 2, 2, 0, 0, 0, 0, 0, 0, 2, 0, 0, 0, 0, 0, 0, 2,\n",
              "        0, 0, 0, 0, 0, 0, 2, 2, 2, 2, 2, 0, 0, 2, 0, 0, 0, 0, 0, 0, 2, 0,\n",
              "        0, 0, 0, 0, 0, 2, 0, 0, 0, 0, 0, 0, 2, 2, 2, 2, 2, 2, 2]),\n",
              " array([0, 0, 0, 0, 0, 2, 0, 0, 0, 0, 0, 0, 2, 0, 0, 0, 0, 0, 0, 2, 0, 0,\n",
              "        0, 0, 0, 0, 2, 0, 0, 0, 0, 0, 0, 2, 0, 0, 0, 0, 0, 0, 2, 0, 0, 2,\n",
              "        0, 0, 0, 2, 0, 0, 2, 0, 0, 0, 2, 0, 0, 0, 2, 2, 2, 0, 0]),\n",
              " array([2, 0, 0, 0, 0, 2, 0, 2, 0, 0, 0, 2, 0, 0, 2, 0, 0, 2, 0, 0, 0, 2,\n",
              "        0, 2, 0, 0, 0, 0, 2, 2, 0, 0, 0, 0, 0, 2, 0, 2, 0, 0, 0, 0, 2, 0,\n",
              "        0, 2, 0, 0, 0, 2, 0, 0, 0, 2, 0, 0, 2, 0, 0, 0, 0, 2, 0]),\n",
              " array([0, 0, 0, 2, 0, 0, 0, 0, 0, 0, 2, 0, 0, 0, 0, 0, 2, 0, 2, 0, 0, 0,\n",
              "        0, 2, 0, 2, 0, 0, 0, 2, 0, 0, 0, 2, 0, 0, 2, 2, 2, 2, 2, 0, 2, 0,\n",
              "        0, 0, 0, 0, 2, 2, 0, 0, 0, 0, 0, 2, 2, 2, 0, 0, 0, 2, 2]),\n",
              " array([2, 2, 2, 2, 2, 2, 0, 0, 2, 0, 0, 0, 0, 2, 0, 2, 0, 0, 0, 0, 2, 0,\n",
              "        2, 2, 2, 2, 2, 0, 0, 2, 0, 0, 0, 0, 2, 0, 2, 0, 0, 0, 0, 2, 0, 2,\n",
              "        0, 0, 0, 0, 2, 0, 2, 0, 0, 0, 0, 2, 2, 2, 2, 2, 2, 2, 0]),\n",
              " array([0, 0, 2, 2, 2, 0, 2, 0, 2, 0, 0, 0, 2, 2, 2, 0, 0, 0, 0, 0, 2, 2,\n",
              "        0, 0, 0, 0, 0, 0, 2, 0, 0, 0, 0, 0, 0, 2, 0, 0, 0, 0, 0, 0, 2, 0,\n",
              "        0, 0, 0, 0, 2, 0, 2, 0, 0, 0, 2, 0, 0, 0, 2, 2, 2, 0, 0]),\n",
              " array([2, 2, 2, 2, 2, 0, 0, 0, 2, 0, 0, 0, 2, 0, 0, 2, 0, 0, 0, 0, 2, 0,\n",
              "        2, 0, 0, 0, 0, 2, 0, 2, 0, 0, 0, 0, 2, 0, 2, 0, 0, 0, 0, 2, 0, 2,\n",
              "        0, 0, 0, 0, 2, 0, 2, 0, 0, 0, 2, 0, 2, 2, 2, 2, 2, 0, 0]),\n",
              " array([2, 2, 2, 2, 2, 2, 2, 0, 2, 0, 0, 0, 0, 2, 0, 2, 0, 0, 2, 0, 0, 0,\n",
              "        2, 2, 2, 2, 0, 0, 0, 2, 0, 0, 2, 0, 0, 0, 2, 0, 0, 0, 0, 0, 0, 2,\n",
              "        0, 0, 0, 0, 0, 0, 2, 0, 0, 0, 0, 2, 2, 2, 2, 2, 2, 2, 2]),\n",
              " array([0, 0, 0, 0, 2, 2, 2, 0, 0, 0, 0, 0, 2, 0, 0, 0, 0, 0, 0, 2, 0, 0,\n",
              "        0, 0, 0, 0, 2, 0, 0, 0, 0, 0, 0, 2, 0, 0, 0, 0, 0, 0, 2, 0, 0, 0,\n",
              "        0, 0, 0, 2, 0, 0, 2, 0, 0, 0, 2, 0, 0, 0, 2, 2, 2, 0, 0]),\n",
              " array([2, 2, 2, 0, 0, 2, 2, 0, 2, 0, 0, 0, 2, 0, 0, 2, 0, 0, 2, 0, 0, 0,\n",
              "        2, 0, 2, 0, 0, 0, 0, 2, 2, 0, 0, 0, 0, 0, 2, 0, 2, 0, 0, 0, 0, 2,\n",
              "        0, 0, 2, 0, 0, 0, 2, 0, 0, 0, 2, 0, 2, 2, 2, 0, 0, 2, 2])]"
            ]
          },
          "metadata": {},
          "execution_count": 2
        }
      ]
    },
    {
      "cell_type": "code",
      "metadata": {
        "colab": {
          "base_uri": "https://localhost:8080/",
          "height": 1000
        },
        "id": "rJLnozydycGz",
        "outputId": "d7484d01-bdfc-4486-df44-522004fb8261"
      },
      "source": [
        "# Plot the Letters\n",
        "\n",
        "import matplotlib.pyplot as plt\n",
        "import matplotlib.cm as cm\n",
        "import matplotlib.image as mpimg\n",
        "\n",
        "for i in range(len(training_letters)):\n",
        "  plt.imsave('filename'+str(i)+'.png', np.array(training_letters[i]).reshape(9,7), cmap=cm.gray)\n",
        "  img = mpimg.imread('filename'+str(i)+'.png')\n",
        "  plt.imshow(img)\n",
        "  plt.show()"
      ],
      "execution_count": 3,
      "outputs": [
        {
          "output_type": "display_data",
          "data": {
            "image/png": "[encoded data removed]",
            "text/plain": [
              "<Figure size 432x288 with 1 Axes>"
            ]
          },
          "metadata": {
            "needs_background": "light"
          }
        },
        {
          "output_type": "display_data",
          "data": {
            "image/png": "[encoded data removed]",
            "text/plain": [
              "<Figure size 432x288 with 1 Axes>"
            ]
          },
          "metadata": {
            "needs_background": "light"
          }
        },
        {
          "output_type": "display_data",
          "data": {
            "image/png": "[encoded data removed]",
            "text/plain": [
              "<Figure size 432x288 with 1 Axes>"
            ]
          },
          "metadata": {
            "needs_background": "light"
          }
        },
        {
          "output_type": "display_data",
          "data": {
            "image/png": "[encoded data removed]",
            "text/plain": [
              "<Figure size 432x288 with 1 Axes>"
            ]
          },
          "metadata": {
            "needs_background": "light"
          }
        },
        {
          "output_type": "display_data",
          "data": {
            "image/png": "[encoded data removed]",
            "text/plain": [
              "<Figure size 432x288 with 1 Axes>"
            ]
          },
          "metadata": {
            "needs_background": "light"
          }
        },
        {
          "output_type": "display_data",
          "data": {
            "image/png": "[encoded data removed]",
            "text/plain": [
              "<Figure size 432x288 with 1 Axes>"
            ]
          },
          "metadata": {
            "needs_background": "light"
          }
        },
        {
          "output_type": "display_data",
          "data": {
            "image/png": "[encoded data removed]",
            "text/plain": [
              "<Figure size 432x288 with 1 Axes>"
            ]
          },
          "metadata": {
            "needs_background": "light"
          }
        },
        {
          "output_type": "display_data",
          "data": {
            "image/png": "[encoded data removed]",
            "text/plain": [
              "<Figure size 432x288 with 1 Axes>"
            ]
          },
          "metadata": {
            "needs_background": "light"
          }
        },
        {
          "output_type": "display_data",
          "data": {
            "image/png": "[encoded data removed]",
            "text/plain": [
              "<Figure size 432x288 with 1 Axes>"
            ]
          },
          "metadata": {
            "needs_background": "light"
          }
        },
        {
          "output_type": "display_data",
          "data": {
            "image/png": "[encoded data removed]",
            "text/plain": [
              "<Figure size 432x288 with 1 Axes>"
            ]
          },
          "metadata": {
            "needs_background": "light"
          }
        },
        {
          "output_type": "display_data",
          "data": {
            "image/png": "[encoded data removed]",
            "text/plain": [
              "<Figure size 432x288 with 1 Axes>"
            ]
          },
          "metadata": {
            "needs_background": "light"
          }
        },
        {
          "output_type": "display_data",
          "data": {
            "image/png": "[encoded data removed]",
            "text/plain": [
              "<Figure size 432x288 with 1 Axes>"
            ]
          },
          "metadata": {
            "needs_background": "light"
          }
        },
        {
          "output_type": "display_data",
          "data": {
            "image/png": "[encoded data removed]",
            "text/plain": [
              "<Figure size 432x288 with 1 Axes>"
            ]
          },
          "metadata": {
            "needs_background": "light"
          }
        },
        {
          "output_type": "display_data",
          "data": {
            "image/png": "[encoded data removed]",
            "text/plain": [
              "<Figure size 432x288 with 1 Axes>"
            ]
          },
          "metadata": {
            "needs_background": "light"
          }
        },
        {
          "output_type": "display_data",
          "data": {
            "image/png": "[encoded data removed]",
            "text/plain": [
              "<Figure size 432x288 with 1 Axes>"
            ]
          },
          "metadata": {
            "needs_background": "light"
          }
        },
        {
          "output_type": "display_data",
          "data": {
            "image/png": "[encoded data removed]",
            "text/plain": [
              "<Figure size 432x288 with 1 Axes>"
            ]
          },
          "metadata": {
            "needs_background": "light"
          }
        },
        {
          "output_type": "display_data",
          "data": {
            "image/png": "[encoded data removed]",
            "text/plain": [
              "<Figure size 432x288 with 1 Axes>"
            ]
          },
          "metadata": {
            "needs_background": "light"
          }
        },
        {
          "output_type": "display_data",
          "data": {
            "image/png": "[encoded data removed]",
            "text/plain": [
              "<Figure size 432x288 with 1 Axes>"
            ]
          },
          "metadata": {
            "needs_background": "light"
          }
        },
        {
          "output_type": "display_data",
          "data": {
            "image/png": "[encoded data removed]",
            "text/plain": [
              "<Figure size 432x288 with 1 Axes>"
            ]
          },
          "metadata": {
            "needs_background": "light"
          }
        },
        {
          "output_type": "display_data",
          "data": {
            "image/png": "[encoded data removed]",
            "text/plain": [
              "<Figure size 432x288 with 1 Axes>"
            ]
          },
          "metadata": {
            "needs_background": "light"
          }
        },
        {
          "output_type": "display_data",
          "data": {
            "image/png": "[encoded data removed]",
            "text/plain": [
              "<Figure size 432x288 with 1 Axes>"
            ]
          },
          "metadata": {
            "needs_background": "light"
          }
        }
      ]
    },
    {
      "cell_type": "code",
      "metadata": {
        "id": "jEu0WSWSJ1QL",
        "colab": {
          "base_uri": "https://localhost:8080/"
        },
        "outputId": "f07b4a7f-9b33-40d0-bcd2-ea9aa308c918"
      },
      "source": [
        "# Bipolar form of the letters\n",
        "\n",
        "training_letters_bipolar = []\n",
        "for i in training_letters:\n",
        "    training_letters_bipolar.append(np.array(i-1))\n",
        "training_letters_bipolar"
      ],
      "execution_count": 4,
      "outputs": [
        {
          "output_type": "execute_result",
          "data": {
            "text/plain": [
              "[array([-1, -1,  1,  1, -1, -1, -1, -1, -1, -1,  1, -1, -1, -1, -1, -1, -1,\n",
              "         1, -1, -1, -1, -1, -1,  1, -1,  1, -1, -1, -1, -1,  1, -1,  1, -1,\n",
              "        -1, -1,  1,  1,  1,  1,  1, -1, -1,  1, -1, -1, -1,  1, -1, -1,  1,\n",
              "        -1, -1, -1,  1, -1,  1,  1,  1, -1,  1,  1,  1]),\n",
              " array([ 1,  1,  1,  1,  1,  1, -1, -1,  1, -1, -1, -1, -1,  1, -1,  1, -1,\n",
              "        -1, -1, -1,  1, -1,  1, -1, -1, -1, -1,  1, -1,  1,  1,  1,  1,  1,\n",
              "        -1, -1,  1, -1, -1, -1, -1,  1, -1,  1, -1, -1, -1, -1,  1, -1,  1,\n",
              "        -1, -1, -1, -1,  1,  1,  1,  1,  1,  1,  1, -1]),\n",
              " array([-1, -1,  1,  1,  1,  1,  1, -1,  1, -1, -1, -1, -1,  1,  1, -1, -1,\n",
              "        -1, -1, -1, -1,  1, -1, -1, -1, -1, -1, -1,  1, -1, -1, -1, -1, -1,\n",
              "        -1,  1, -1, -1, -1, -1, -1, -1,  1, -1, -1, -1, -1, -1, -1, -1,  1,\n",
              "        -1, -1, -1, -1,  1, -1, -1,  1,  1,  1,  1, -1]),\n",
              " array([ 1,  1,  1,  1,  1, -1, -1, -1,  1, -1, -1, -1,  1, -1, -1,  1, -1,\n",
              "        -1, -1, -1,  1, -1,  1, -1, -1, -1, -1,  1, -1,  1, -1, -1, -1, -1,\n",
              "         1, -1,  1, -1, -1, -1, -1,  1, -1,  1, -1, -1, -1, -1,  1, -1,  1,\n",
              "        -1, -1, -1,  1, -1,  1,  1,  1,  1,  1, -1, -1]),\n",
              " array([ 1,  1,  1,  1,  1,  1,  1, -1,  1, -1, -1, -1, -1,  1, -1,  1, -1,\n",
              "        -1, -1, -1, -1, -1,  1, -1,  1, -1, -1, -1, -1,  1,  1,  1, -1, -1,\n",
              "        -1, -1,  1, -1,  1, -1, -1, -1, -1,  1, -1, -1, -1, -1, -1, -1,  1,\n",
              "        -1, -1, -1, -1,  1,  1,  1,  1,  1,  1,  1,  1]),\n",
              " array([-1, -1, -1,  1,  1,  1,  1, -1, -1, -1, -1, -1,  1, -1, -1, -1, -1,\n",
              "        -1, -1,  1, -1, -1, -1, -1, -1, -1,  1, -1, -1, -1, -1, -1, -1,  1,\n",
              "        -1, -1, -1, -1, -1, -1,  1, -1, -1,  1, -1, -1, -1,  1, -1, -1,  1,\n",
              "        -1, -1, -1,  1, -1, -1, -1,  1,  1,  1, -1, -1]),\n",
              " array([ 1,  1,  1, -1, -1,  1,  1, -1,  1, -1, -1,  1, -1, -1, -1,  1, -1,\n",
              "         1, -1, -1, -1, -1,  1,  1, -1, -1, -1, -1, -1,  1,  1, -1, -1, -1,\n",
              "        -1, -1,  1, -1,  1, -1, -1, -1, -1,  1, -1, -1,  1, -1, -1, -1,  1,\n",
              "        -1, -1, -1,  1, -1,  1,  1,  1, -1, -1,  1,  1]),\n",
              " array([-1, -1, -1,  1, -1, -1, -1, -1, -1, -1,  1, -1, -1, -1, -1, -1, -1,\n",
              "         1, -1, -1, -1, -1, -1,  1, -1,  1, -1, -1, -1, -1,  1, -1,  1, -1,\n",
              "        -1, -1,  1, -1, -1, -1,  1, -1, -1,  1,  1,  1,  1,  1, -1, -1,  1,\n",
              "        -1, -1, -1,  1, -1, -1,  1, -1, -1, -1,  1, -1]),\n",
              " array([ 1,  1,  1,  1,  1,  1, -1,  1, -1, -1, -1, -1, -1,  1,  1, -1, -1,\n",
              "        -1, -1, -1,  1,  1, -1, -1, -1, -1, -1,  1,  1,  1,  1,  1,  1,  1,\n",
              "        -1,  1, -1, -1, -1, -1, -1,  1,  1, -1, -1, -1, -1, -1,  1,  1, -1,\n",
              "        -1, -1, -1, -1,  1,  1,  1,  1,  1,  1,  1, -1]),\n",
              " array([-1, -1,  1,  1,  1, -1, -1, -1,  1, -1, -1, -1,  1, -1,  1, -1, -1,\n",
              "        -1, -1, -1,  1,  1, -1, -1, -1, -1, -1, -1,  1, -1, -1, -1, -1, -1,\n",
              "        -1,  1, -1, -1, -1, -1, -1, -1,  1, -1, -1, -1, -1, -1,  1, -1,  1,\n",
              "        -1, -1, -1,  1, -1, -1, -1,  1,  1,  1, -1, -1]),\n",
              " array([ 1,  1,  1,  1,  1, -1, -1,  1, -1, -1, -1, -1,  1, -1,  1, -1, -1,\n",
              "        -1, -1, -1,  1,  1, -1, -1, -1, -1, -1,  1,  1, -1, -1, -1, -1, -1,\n",
              "         1,  1, -1, -1, -1, -1, -1,  1,  1, -1, -1, -1, -1, -1,  1,  1, -1,\n",
              "        -1, -1, -1,  1, -1,  1,  1,  1,  1,  1, -1, -1]),\n",
              " array([ 1,  1,  1,  1,  1,  1,  1,  1, -1, -1, -1, -1, -1, -1,  1, -1, -1,\n",
              "        -1, -1, -1, -1,  1, -1, -1, -1, -1, -1, -1,  1,  1,  1,  1,  1, -1,\n",
              "        -1,  1, -1, -1, -1, -1, -1, -1,  1, -1, -1, -1, -1, -1, -1,  1, -1,\n",
              "        -1, -1, -1, -1, -1,  1,  1,  1,  1,  1,  1,  1]),\n",
              " array([-1, -1, -1, -1, -1,  1, -1, -1, -1, -1, -1, -1,  1, -1, -1, -1, -1,\n",
              "        -1, -1,  1, -1, -1, -1, -1, -1, -1,  1, -1, -1, -1, -1, -1, -1,  1,\n",
              "        -1, -1, -1, -1, -1, -1,  1, -1, -1,  1, -1, -1, -1,  1, -1, -1,  1,\n",
              "        -1, -1, -1,  1, -1, -1, -1,  1,  1,  1, -1, -1]),\n",
              " array([ 1, -1, -1, -1, -1,  1, -1,  1, -1, -1, -1,  1, -1, -1,  1, -1, -1,\n",
              "         1, -1, -1, -1,  1, -1,  1, -1, -1, -1, -1,  1,  1, -1, -1, -1, -1,\n",
              "        -1,  1, -1,  1, -1, -1, -1, -1,  1, -1, -1,  1, -1, -1, -1,  1, -1,\n",
              "        -1, -1,  1, -1, -1,  1, -1, -1, -1, -1,  1, -1]),\n",
              " array([-1, -1, -1,  1, -1, -1, -1, -1, -1, -1,  1, -1, -1, -1, -1, -1,  1,\n",
              "        -1,  1, -1, -1, -1, -1,  1, -1,  1, -1, -1, -1,  1, -1, -1, -1,  1,\n",
              "        -1, -1,  1,  1,  1,  1,  1, -1,  1, -1, -1, -1, -1, -1,  1,  1, -1,\n",
              "        -1, -1, -1, -1,  1,  1,  1, -1, -1, -1,  1,  1]),\n",
              " array([ 1,  1,  1,  1,  1,  1, -1, -1,  1, -1, -1, -1, -1,  1, -1,  1, -1,\n",
              "        -1, -1, -1,  1, -1,  1,  1,  1,  1,  1, -1, -1,  1, -1, -1, -1, -1,\n",
              "         1, -1,  1, -1, -1, -1, -1,  1, -1,  1, -1, -1, -1, -1,  1, -1,  1,\n",
              "        -1, -1, -1, -1,  1,  1,  1,  1,  1,  1,  1, -1]),\n",
              " array([-1, -1,  1,  1,  1, -1,  1, -1,  1, -1, -1, -1,  1,  1,  1, -1, -1,\n",
              "        -1, -1, -1,  1,  1, -1, -1, -1, -1, -1, -1,  1, -1, -1, -1, -1, -1,\n",
              "        -1,  1, -1, -1, -1, -1, -1, -1,  1, -1, -1, -1, -1, -1,  1, -1,  1,\n",
              "        -1, -1, -1,  1, -1, -1, -1,  1,  1,  1, -1, -1]),\n",
              " array([ 1,  1,  1,  1,  1, -1, -1, -1,  1, -1, -1, -1,  1, -1, -1,  1, -1,\n",
              "        -1, -1, -1,  1, -1,  1, -1, -1, -1, -1,  1, -1,  1, -1, -1, -1, -1,\n",
              "         1, -1,  1, -1, -1, -1, -1,  1, -1,  1, -1, -1, -1, -1,  1, -1,  1,\n",
              "        -1, -1, -1,  1, -1,  1,  1,  1,  1,  1, -1, -1]),\n",
              " array([ 1,  1,  1,  1,  1,  1,  1, -1,  1, -1, -1, -1, -1,  1, -1,  1, -1,\n",
              "        -1,  1, -1, -1, -1,  1,  1,  1,  1, -1, -1, -1,  1, -1, -1,  1, -1,\n",
              "        -1, -1,  1, -1, -1, -1, -1, -1, -1,  1, -1, -1, -1, -1, -1, -1,  1,\n",
              "        -1, -1, -1, -1,  1,  1,  1,  1,  1,  1,  1,  1]),\n",
              " array([-1, -1, -1, -1,  1,  1,  1, -1, -1, -1, -1, -1,  1, -1, -1, -1, -1,\n",
              "        -1, -1,  1, -1, -1, -1, -1, -1, -1,  1, -1, -1, -1, -1, -1, -1,  1,\n",
              "        -1, -1, -1, -1, -1, -1,  1, -1, -1, -1, -1, -1, -1,  1, -1, -1,  1,\n",
              "        -1, -1, -1,  1, -1, -1, -1,  1,  1,  1, -1, -1]),\n",
              " array([ 1,  1,  1, -1, -1,  1,  1, -1,  1, -1, -1, -1,  1, -1, -1,  1, -1,\n",
              "        -1,  1, -1, -1, -1,  1, -1,  1, -1, -1, -1, -1,  1,  1, -1, -1, -1,\n",
              "        -1, -1,  1, -1,  1, -1, -1, -1, -1,  1, -1, -1,  1, -1, -1, -1,  1,\n",
              "        -1, -1, -1,  1, -1,  1,  1,  1, -1, -1,  1,  1])]"
            ]
          },
          "metadata": {},
          "execution_count": 4
        }
      ]
    },
    {
      "cell_type": "code",
      "metadata": {
        "id": "18bwKzMtguGK"
      },
      "source": [
        "F1A = training_letters_bipolar[0] \n",
        "F1B = training_letters_bipolar[1] \n",
        "F1C = training_letters_bipolar[2] \n",
        "F1D = training_letters_bipolar[3] \n",
        "F1E = training_letters_bipolar[4] \n",
        "F1J = training_letters_bipolar[5] \n",
        "F1K = training_letters_bipolar[6] \n",
        "\n",
        "F2A = training_letters_bipolar[7] \n",
        "F2B = training_letters_bipolar[8] \n",
        "F2C = training_letters_bipolar[9] \n",
        "F2D = training_letters_bipolar[10] \n",
        "F2E = training_letters_bipolar[11] \n",
        "F2J = training_letters_bipolar[12] \n",
        "F2K = training_letters_bipolar[13]\n",
        "\n",
        "F3A = training_letters_bipolar[14] \n",
        "F3B = training_letters_bipolar[15] \n",
        "F3C = training_letters_bipolar[16] \n",
        "F3D = training_letters_bipolar[17] \n",
        "F3E = training_letters_bipolar[18] \n",
        "F3J = training_letters_bipolar[19] \n",
        "F3K = training_letters_bipolar[20]"
      ],
      "execution_count": 5,
      "outputs": []
    },
    {
      "cell_type": "code",
      "metadata": {
        "id": "71FSq7GkKNso",
        "colab": {
          "base_uri": "https://localhost:8080/"
        },
        "outputId": "31b3cbaf-af4d-4ed8-daf4-1e1d60707811"
      },
      "source": [
        "# Label(Since my name is starting with 'M', I am testing whether the given vector is class 'C' or 'not-C')\n",
        "\n",
        "class_C = np.array([0, 0, 1, 0, 0, 0, 0, 0, 0, 1, 0, 0, 0, 0, 0, 0, 1, 0, 0, 0, 0])\n",
        "class_C"
      ],
      "execution_count": 6,
      "outputs": [
        {
          "output_type": "execute_result",
          "data": {
            "text/plain": [
              "array([0, 0, 1, 0, 0, 0, 0, 0, 0, 1, 0, 0, 0, 0, 0, 0, 1, 0, 0, 0, 0])"
            ]
          },
          "metadata": {},
          "execution_count": 6
        }
      ]
    },
    {
      "cell_type": "markdown",
      "metadata": {
        "id": "XuNQQN8uzSLH"
      },
      "source": [
        "### **Classification using Perceptron**"
      ]
    },
    {
      "cell_type": "code",
      "metadata": {
        "id": "Ll4xDYjCpDVl"
      },
      "source": [
        "import numpy as np\n",
        "\n",
        "# Perceptron\n",
        "\n",
        "class Perceptron(object):\n",
        "\n",
        "    def __init__(self, no_of_inputs, epochs=100, learning_rate=0.01):\n",
        "        self.epochs = epochs\n",
        "        self.learning_rate = learning_rate\n",
        "        self.weights = np.zeros(no_of_inputs + 1)\n",
        "           \n",
        "    def predict(self, inputs):\n",
        "        summation = np.dot(inputs, self.weights[1:]) + self.weights[0]\n",
        "        if summation > 0:\n",
        "          activation = 1\n",
        "        else:\n",
        "          activation = 0            \n",
        "        return activation\n",
        "\n",
        "    def train(self, training_letters_bipolar, class_C):\n",
        "        for _ in range(self.epochs):\n",
        "            for inputs, label in zip(training_letters_bipolar, class_C):\n",
        "                prediction = self.predict(inputs)\n",
        "                self.weights[1:] += self.learning_rate * (label - prediction) * inputs\n",
        "                self.weights[0] += self.learning_rate * (label - prediction)\n"
      ],
      "execution_count": 7,
      "outputs": []
    },
    {
      "cell_type": "code",
      "metadata": {
        "colab": {
          "base_uri": "https://localhost:8080/"
        },
        "id": "5Z8XW7L7mvXV",
        "outputId": "1c40ab66-7f1a-4aad-8cd7-b0e06faf4094"
      },
      "source": [
        "# Testing using Perceptron\n",
        "perceptron = Perceptron(63)\n",
        "perceptron.train(training_letters_bipolar, class_C)\n",
        "\n",
        "# Perceptron-Prediction\n",
        "\n",
        "print(\"PERCEPTRON\")\n",
        "print(\"############\\n\")\n",
        "print('PREDICTIONS')\n",
        "print('--------------')\n",
        "print(\"Font 1 : A -\", perceptron.predict(F1A))\n",
        "print(\"Font 1 : B -\", perceptron.predict(F1B))\n",
        "print(\"Font 1 : C -\", perceptron.predict(F1C))\n",
        "print(\"Font 1 : D -\", perceptron.predict(F1D))\n",
        "print(\"Font 1 : E -\", perceptron.predict(F1E))\n",
        "print(\"Font 1 : J -\", perceptron.predict(F1J))\n",
        "print(\"Font 1 : K -\", perceptron.predict(F1K))\n",
        "\n",
        "print(\"\\nFont 2 : A -\", perceptron.predict(F2A))\n",
        "print(\"Font 2 : B -\", perceptron.predict(F2B))\n",
        "print(\"Font 2 : C -\", perceptron.predict(F2C))\n",
        "print(\"Font 2 : D -\", perceptron.predict(F2D))\n",
        "print(\"Font 2 : E -\", perceptron.predict(F2E))\n",
        "print(\"Font 2 : J -\", perceptron.predict(F2J))\n",
        "print(\"Font 2 : K -\", perceptron.predict(F2K))\n",
        "\n",
        "print(\"\\nFont 3 : A -\", perceptron.predict(F3A))\n",
        "print(\"Font 3 : B -\", perceptron.predict(F3B))\n",
        "print(\"Font 3 : C -\", perceptron.predict(F3C))\n",
        "print(\"Font 3 : D -\", perceptron.predict(F3D))\n",
        "print(\"Font 3 : E -\", perceptron.predict(F3E))\n",
        "print(\"Font 3 : J -\", perceptron.predict(F3J))\n",
        "print(\"Font 3 : K -\", perceptron.predict(F3K))\n"
      ],
      "execution_count": 8,
      "outputs": [
        {
          "output_type": "stream",
          "name": "stdout",
          "text": [
            "PERCEPTRON\n",
            "############\n",
            "\n",
            "PREDICTIONS\n",
            "--------------\n",
            "Font 1 : A - 0\n",
            "Font 1 : B - 0\n",
            "Font 1 : C - 1\n",
            "Font 1 : D - 0\n",
            "Font 1 : E - 0\n",
            "Font 1 : J - 0\n",
            "Font 1 : K - 0\n",
            "\n",
            "Font 2 : A - 0\n",
            "Font 2 : B - 0\n",
            "Font 2 : C - 1\n",
            "Font 2 : D - 0\n",
            "Font 2 : E - 0\n",
            "Font 2 : J - 0\n",
            "Font 2 : K - 0\n",
            "\n",
            "Font 3 : A - 0\n",
            "Font 3 : B - 0\n",
            "Font 3 : C - 1\n",
            "Font 3 : D - 0\n",
            "Font 3 : E - 0\n",
            "Font 3 : J - 0\n",
            "Font 3 : K - 0\n"
          ]
        }
      ]
    },
    {
      "cell_type": "markdown",
      "metadata": {
        "id": "UlMqpQ-lzjHd"
      },
      "source": [
        "### **Classification using ADALINE**"
      ]
    },
    {
      "cell_type": "code",
      "metadata": {
        "id": "fgw80c53Ld4S"
      },
      "source": [
        "class AdalineGD(object):\n",
        "\n",
        "    def __init__(self, eta=0.01, epochs=50):\n",
        "        self.eta = eta\n",
        "        self.epochs = epochs\n",
        "\n",
        "    def train(self, X, y):\n",
        "\n",
        "        self.w_ = np.zeros(1 + X.shape[1])\n",
        "        self.cost_ = []\n",
        "\n",
        "        for i in range(self.epochs):\n",
        "            output = self.net_input(X)\n",
        "            errors = (y - output)\n",
        "            self.w_[1:] += self.eta * X.T.dot(errors)\n",
        "            self.w_[0] += self.eta * errors.sum()\n",
        "            cost = (errors**2).sum() / 2.0\n",
        "            self.cost_.append(cost)\n",
        "        return self\n",
        "\n",
        "    def net_input(self, X):\n",
        "        return np.dot(X, self.w_[1:]) + self.w_[0]\n",
        "\n",
        "    def activation(self, X):\n",
        "        return self.net_input(X)\n",
        "\n",
        "    def predict(self, X):\n",
        "        return np.where(self.activation(X) >= 0.0, 1, -1)"
      ],
      "execution_count": 9,
      "outputs": []
    },
    {
      "cell_type": "code",
      "metadata": {
        "colab": {
          "base_uri": "https://localhost:8080/"
        },
        "id": "YsbkI-X21AnD",
        "outputId": "2877abf8-12c9-4257-91c2-94411b145f6b"
      },
      "source": [
        "import pandas as pd\n",
        "\n",
        "X = pd.DataFrame(np.array([F1A, F1B, F1C, F1D, F1E, F1J, F1K, F2A, F2B, F2C, F2D, F2E, F2J, F2K, F3A, F3B, F3C, F3D, F3E, F3J, F3K]))\n",
        "\n",
        "adaline = AdalineGD(epochs=10,eta=0.001).train(X, class_C)\n",
        "\n",
        "# ADALINE-Prediction\n",
        "\n",
        "print(\"ADALINE\")\n",
        "print(\"############\\n\")\n",
        "print('PREDICTIONS')\n",
        "print('--------------')\n",
        "print(\"Font 1 : A -\", adaline.predict(F1A))\n",
        "print(\"Font 1 : B -\", adaline.predict(F1B))\n",
        "print(\"Font 1 : C -\", adaline.predict(F1C))\n",
        "print(\"Font 1 : D -\", adaline.predict(F1D))\n",
        "print(\"Font 1 : E -\", adaline.predict(F1E))\n",
        "print(\"Font 1 : J -\", adaline.predict(F1J))\n",
        "print(\"Font 1 : K -\", adaline.predict(F1K))\n",
        "\n",
        "print(\"\\nFont 2 : A -\", adaline.predict(F2A))\n",
        "print(\"Font 2 : B -\", adaline.predict(F2B))\n",
        "print(\"Font 2 : C -\", adaline.predict(F2C))\n",
        "print(\"Font 2 : D -\", adaline.predict(F2D))\n",
        "print(\"Font 2 : E -\", adaline.predict(F2E))\n",
        "print(\"Font 2 : J -\", adaline.predict(F2J))\n",
        "print(\"Font 2 : K -\", adaline.predict(F2K))\n",
        "\n",
        "print(\"\\nFont 3 : A -\", adaline.predict(F3A))\n",
        "print(\"Font 3 : B -\", adaline.predict(F3B))\n",
        "print(\"Font 3 : C -\", adaline.predict(F3C))\n",
        "print(\"Font 3 : D -\", adaline.predict(F3D))\n",
        "print(\"Font 3 : E -\", adaline.predict(F3E))\n",
        "print(\"Font 3 : J -\", adaline.predict(F3J))\n",
        "print(\"Font 3 : K -\", adaline.predict(F3K))"
      ],
      "execution_count": 10,
      "outputs": [
        {
          "output_type": "stream",
          "name": "stdout",
          "text": [
            "ADALINE\n",
            "############\n",
            "\n",
            "PREDICTIONS\n",
            "--------------\n",
            "Font 1 : A - -1\n",
            "Font 1 : B - -1\n",
            "Font 1 : C - 1\n",
            "Font 1 : D - 1\n",
            "Font 1 : E - 1\n",
            "Font 1 : J - 1\n",
            "Font 1 : K - -1\n",
            "\n",
            "Font 2 : A - 1\n",
            "Font 2 : B - 1\n",
            "Font 2 : C - 1\n",
            "Font 2 : D - 1\n",
            "Font 2 : E - 1\n",
            "Font 2 : J - 1\n",
            "Font 2 : K - 1\n",
            "\n",
            "Font 3 : A - -1\n",
            "Font 3 : B - 1\n",
            "Font 3 : C - 1\n",
            "Font 3 : D - 1\n",
            "Font 3 : E - 1\n",
            "Font 3 : J - 1\n",
            "Font 3 : K - -1\n"
          ]
        }
      ]
    },
    {
      "cell_type": "markdown",
      "metadata": {
        "id": "cS1kyV8S6dfG"
      },
      "source": [
        "**Noisy Inputs**"
      ]
    },
    {
      "cell_type": "markdown",
      "metadata": {
        "id": "g8-oYZQ3AGwa"
      },
      "source": [
        "I am taking Input vector 'C' from every fonts and testing the 'Perceptron' and 'ADALINE'"
      ]
    },
    {
      "cell_type": "code",
      "metadata": {
        "colab": {
          "base_uri": "https://localhost:8080/"
        },
        "id": "uUAoJ1iqA29q",
        "outputId": "0870f2e2-f363-4066-92b6-61f6df1b916d"
      },
      "source": [
        "# Adding Noise(5, 10, 15, 20 pixels wrong )\n",
        "# Perceptron\n",
        "\n",
        "print('FONT 1\\n-------\\n')\n",
        "print('PERCEPTRON----->Prediction\\n----------------------------\\n')\n",
        "\n",
        "# Font 1C - 5 pixels wrong\n",
        "inputs = np.array([-1, 1,  1,  1,  1,  1,  1, -1,  1, -1, 1, -1, -1,  1,  1, 1, -1,\n",
        "       -1, -1, -1, -1,  1, -1, -1, -1, 1, -1, -1,  1, -1, -1, -1, -1, -1,\n",
        "       -1,  1, -1, -1, -1, -1, -1, -1,  1, -1, 1, -1, -1, -1, -1, -1,  1,\n",
        "       -1, -1, -1, -1,  1, -1, -1,  1,  1,  1,  1, -1])\n",
        "print('\\n5 pixels wrong - ',perceptron.predict(inputs))\n",
        "\n",
        "# Font 1C - 10 pixels wrong\n",
        "inputs = np.array([1, -1,  1,  1,  1,  -1,  1, -1,  -1, -1, 1, -1, -1,  1,  -1, -1, -1,\n",
        "       -1, -1, -1, -1,  1, -1, -1, -1, -1, -1, -1,  1, -1, -1, -1, 1, -1,\n",
        "       -1,  1, -1, -1, -1, -1, -1, -1,  -1, 1, -1, 1, -1, -1, -1, 1,  1,\n",
        "       -1, -1, -1, -1,  1, -1, -1,  1,  1,  1,  1, -1])\n",
        "print('\\n10 pixels wrong - ',perceptron.predict(inputs))\n",
        "\n",
        "# Font 1C - 15 pixels wrong\n",
        "inputs = np.array([-1, 1,  1,  1,  1,  1,  1, -1,  1, -1, -1, -1, -1,  1,  1, -1, -1,\n",
        "       -1, -1, -1, -1,  -1, -1, 1, -1, -1, 1, -1,  -1, -1, -1, 1, -1, 1,\n",
        "       -1,  1, 1, -1, -1, 1, -1, -1,  -1, -1, 1, -1, -1, 1, -1, 1,  1,\n",
        "       -1, -1, -1, -1,  1, -1, -1,  1,  -1,  1,  -1, -1])\n",
        "print('\\n15 pixels wrong - ',perceptron.predict(inputs))\n",
        "\n",
        "# Font 1C - 20 pixels wrong\n",
        "inputs = np.array([-1, -1,  1,  1,  1,  1,  1, -1,  1, -1, -1, -1, -1,  1,  1, -1, -1,\n",
        "       -1, -1, -1, -1,  1, -1, -1, -1, -1, -1, -1,  1, -1, -1, -1, -1, -1,\n",
        "       -1,  1, -1, -1, -1, -1, -1, -1,  1, -1, -1, -1, -1, -1, -1, -1,  1,\n",
        "       -1, -1, -1, -1,  1, -1, -1,  1,  1,  1,  1, -1])\n",
        "print('\\n20 pixels wrong - ',perceptron.predict(inputs))\n",
        "\n",
        "# -------------------------------------------------------------------------------------\n",
        "\n",
        "\n",
        "\n",
        "print('\\n\\nADALINE------->Prediction\\n---------------------------\\n')\n",
        "\n",
        "# Font 1C - 5 pixels wrong\n",
        "inputs = np.array([-1, 1,  1,  1,  1,  1,  1, -1,  1, -1, 1, -1, -1,  1,  1, 1, -1,\n",
        "       -1, -1, -1, -1,  1, -1, -1, -1, 1, -1, -1,  1, -1, -1, -1, -1, -1,\n",
        "       -1,  1, -1, -1, -1, -1, -1, -1,  1, -1, 1, -1, -1, -1, -1, -1,  1,\n",
        "       -1, -1, -1, -1,  1, -1, -1,  1,  1,  1,  1, -1])\n",
        "print('\\n5 pixels wrong - ',adaline.predict(inputs))\n",
        "\n",
        "# Font 1C - 10 pixels wrong\n",
        "inputs = np.array([1, -1,  1,  1,  1,  -1,  1, -1,  -1, -1, 1, -1, -1,  1,  -1, -1, -1,\n",
        "       -1, -1, -1, -1,  1, -1, -1, -1, -1, -1, -1,  1, -1, -1, -1, 1, -1,\n",
        "       -1,  1, -1, -1, -1, -1, -1, -1,  -1, 1, -1, 1, -1, -1, -1, 1,  1,\n",
        "       -1, -1, -1, -1,  1, -1, -1,  1,  1,  1,  1, -1])\n",
        "print('\\n10 pixels wrong - ',adaline.predict(inputs))\n",
        "\n",
        "# Font 1C - 15 pixels wrong\n",
        "inputs = np.array([-1, 1,  1,  1,  1,  1,  1, -1,  1, -1, -1, -1, -1,  1,  1, -1, -1,\n",
        "       -1, -1, -1, -1,  -1, -1, 1, -1, -1, 1, -1,  -1, -1, -1, 1, -1, 1,\n",
        "       -1,  1, 1, -1, -1, 1, -1, -1,  -1, -1, 1, -1, -1, 1, -1, 1,  1,\n",
        "       -1, -1, -1, -1,  1, -1, -1,  1,  -1,  1,  -1, -1])\n",
        "print('\\n15 pixels wrong - ',adaline.predict(inputs))\n",
        "\n",
        "# Font 1C - 20 pixels wrong\n",
        "inputs = np.array([-1, -1,  1,  1,  1,  1,  1, -1,  1, -1, -1, -1, -1,  1,  1, -1, -1,\n",
        "       -1, -1, -1, -1,  1, -1, -1, -1, -1, -1, -1,  1, -1, -1, -1, -1, -1,\n",
        "       -1,  1, -1, -1, -1, -1, -1, -1,  1, -1, -1, -1, -1, -1, -1, -1,  1,\n",
        "       -1, -1, -1, -1,  1, -1, -1,  1,  1,  1,  1, -1])\n",
        "print('\\n20 pixels wrong - ',adaline.predict(inputs))\n",
        "\n",
        "# --------------------------------------------------------------------------------------------------------\n",
        "\n",
        "\n",
        "print('\\n---------------------------------------------------------------------------------------------\\n')\n",
        "print('FONT 2\\n-------\\n')\n",
        "print('PERCEPTRON----->Prediction\\n----------------------------\\n')\n",
        "\n",
        "# Font 2C\n",
        "inputs = np.array([1, -1,  1,  1,  1, -1, -1, -1,  1, -1, -1, -1,  1, -1,  1, -1, -1,\n",
        "       -1, -1, -1,  1,  1, -1, 1, -1, -1, -1, -1,  1, -1, -1, -1, -1, -1,\n",
        "       -1,  1, -1, -1, -1, -1, -1, -1,  1, 1, 1, -1, -1, 1,  1, -1,  1,\n",
        "       -1, -1, -1,  1, -1, -1, -1,  1,  1,  1, -1, -1])\n",
        "\n",
        "print('\\n5 pixels wrong - ',perceptron.predict(inputs))\n",
        "\n",
        "# Font 2C\n",
        "inputs = np.array([1, -1,  1,  1,  -1, -1, -1, -1,  1, -1, -1, -1,  1, -1,  1, -1, -1,\n",
        "       -1, -1, -1,  1,  1, -1, -1, 1, 1, -1, -1,  1, -1, -1, -1, -1, -1,\n",
        "       -1,  1, -1, -1, -1, -1, -1, -1,  -1, 1, -1, -1, -1, 1,  1, 1,  1,\n",
        "       1, -1, 1,  1, -1, -1, -1,  1,  1,  1, -1, -1])\n",
        "\n",
        "print('\\n10 pixels wrong - ',perceptron.predict(inputs))\n",
        "\n",
        "# Font 2C\n",
        "inputs = np.array([1, -1,  1,  1,  1, 1, -1, -1,  1, 1, -1, -1,  -1, -1,  -1, -1, 1,\n",
        "       -1, -1, 1,  1,  1, -1, -1, 1, -1, -1, 1,  1, -1, 1, -1, -1, -1,\n",
        "       -1,  1, -1, -1, -1, -1, -1, 1,  1, -1, 1, -1, -1, -1,  -1, -1,  1,\n",
        "       -1, 1, -1,  1, 1, -1, -1,  1,  1,  1, -1, -1])\n",
        "\n",
        "print('\\n15 pixels wrong - ',perceptron.predict(inputs))\n",
        "\n",
        "# Font 2C\n",
        "inputs = np.array([-1, -1,  1,  1,  1, -1, -1, -1,  1, -1, -1, -1,  1, -1,  1, -1, -1,\n",
        "       -1, -1, -1,  1,  1, -1, -1, -1, -1, -1, -1,  1, -1, -1, -1, -1, -1,\n",
        "       -1,  1, -1, -1, -1, -1, -1, -1,  1, -1, -1, -1, -1, -1,  1, -1,  1,\n",
        "       -1, -1, -1,  1, -1, -1, -1,  1,  1,  1, -1, -1])\n",
        "\n",
        "print('\\n20 pixels wrong - ',perceptron.predict(inputs))\n",
        "\n",
        "\n",
        "print('\\n\\nADALINE------->Prediction\\n---------------------------\\n')\n",
        "\n",
        "# Font 2C\n",
        "\n",
        "\n",
        "inputs = np.array([1, -1,  1,  1,  1, -1, -1, -1,  1, -1, -1, -1,  1, -1,  1, -1, -1,\n",
        "       -1, -1, -1,  1,  1, -1, 1, -1, -1, -1, -1,  1, -1, -1, -1, -1, -1,\n",
        "       -1,  1, -1, -1, -1, -1, -1, -1,  1, 1, 1, -1, -1, 1,  1, -1,  1,\n",
        "       -1, -1, -1,  1, -1, -1, -1,  1,  1,  1, -1, -1])\n",
        "\n",
        "print('\\n5 pixels wrong - ',adaline.predict(inputs))\n",
        "\n",
        "# Font 2C\n",
        "inputs = np.array([1, -1,  1,  1,  -1, -1, -1, -1,  1, -1, -1, -1,  1, -1,  1, -1, -1,\n",
        "       -1, -1, -1,  1,  1, -1, -1, 1, 1, -1, -1,  1, -1, -1, -1, -1, -1,\n",
        "       -1,  1, -1, -1, -1, -1, -1, -1,  -1, 1, -1, -1, -1, 1,  1, 1,  1,\n",
        "       1, -1, 1,  1, -1, -1, -1,  1,  1,  1, -1, -1])\n",
        "\n",
        "print('\\n10 pixels wrong - ',adaline.predict(inputs))\n",
        "\n",
        "# Font 2C\n",
        "inputs = np.array([1, -1,  1,  1,  1, 1, -1, -1,  1, 1, -1, -1,  -1, -1,  -1, -1, 1,\n",
        "       -1, -1, 1,  1,  1, -1, -1, 1, -1, -1, 1,  1, -1, 1, -1, -1, -1,\n",
        "       -1,  1, -1, -1, -1, -1, -1, 1,  1, -1, 1, -1, -1, -1,  -1, -1,  1,\n",
        "       -1, 1, -1,  1, 1, -1, -1,  1,  1,  1, -1, -1])\n",
        "\n",
        "print('\\n15 pixels wrong - ',adaline.predict(inputs))\n",
        "\n",
        "# Font 2C\n",
        "inputs = np.array([-1, -1,  1,  1,  1, -1, -1, -1,  1, -1, -1, -1,  1, -1,  1, -1, -1,\n",
        "       -1, -1, -1,  1,  1, -1, -1, -1, -1, -1, -1,  1, -1, -1, -1, -1, -1,\n",
        "       -1,  1, -1, -1, -1, -1, -1, -1,  1, -1, -1, -1, -1, -1,  1, -1,  1,\n",
        "       -1, -1, -1,  1, -1, -1, -1,  1,  1,  1, -1, -1])\n",
        "\n",
        "print('\\n20 pixels wrong - ',adaline.predict(inputs))\n",
        "\n",
        "\n",
        "# --------------------------------------------------------------------------------------------\n",
        "\n",
        "\n",
        "\n",
        "print(\"\\n---------------------------------------------------------------------------------------------\\n\")\n",
        "print('FONT 3\\n-------\\n')\n",
        "print('PERCEPTRON----->Prediction\\n----------------------------\\n')\n",
        "\n",
        "# Font 3C\n",
        "\n",
        "inputs = np.array([1, 1,  -1,  1,  1, -1,  1, -1,  1, -1, -1, -1,  1,  1,  1, -1, -1,\n",
        "       -1, -1, -1,  1,  1, 1, -1, 1, 1, 1, 1,  -1, -1, -1, -1, 1, -1,\n",
        "       -1,  1, -1, 1, -1, -1, -1, -1,  -1, -1, -1, 1, -1, 1,  -1, -1,  1,\n",
        "       -1, 1, 1,  -1, 1, -1, -1,  1,  -1,  1, 1, -1])\n",
        "\n",
        "print('\\n5 pixels wrong - ',perceptron.predict(inputs))\n",
        "\n",
        "# Font 3C\n",
        "inputs = np.array([-1, 1,  -1,  1,  1, -1,  1, -1,  1, -1, -1, -1,  1,  1,  1, -1, -1,\n",
        "       -1, -1, 1,  1,  1, 1, -1, -1, 1, 1, 1,  1, -1, -1, -1, -1, -1,\n",
        "       -1,  1, -1, 1, -1, -1, -1, 1,  1, 1, -1, 1, 1, 1,  -1, 1,  1,\n",
        "       -1, -1, 1,  1, 1, -1, -1,  -1,  -1,  1, 1, -1])\n",
        "\n",
        "print('\\n10 pixels wrong - ',perceptron.predict(inputs))\n",
        "# Font 3C\n",
        "inputs = np.array([-1, 1,  -1,  -1,  1, -1,  1, 1,  1, -1, -1, -1,  -1,  1,  1, -1, -1,\n",
        "       -1, -1, 1,  1,  1, -1, -1, -1, 1, 1, 1,  1, -1, -1, -1, 1, -1,\n",
        "       -1,  -1, -1, 1, -1, -1, -1, 1,  1, -1, -1, 1, -1, 1,  -1, 1,  1,\n",
        "       -1, -1, 1,  -1, -1, -1, 1,  1,  -1,  1, 1, -1])\n",
        "\n",
        "print('\\n15 pixels wrong - ',perceptron.predict(inputs))\n",
        "\n",
        "# Font 3C\n",
        "inputs = np.array([1, 1,  1,  1,  1, 1,  -1, 1,  1, -1, 1, -1,  1,  -1,  1, 1, 1,\n",
        "       -1, -1, 1,  -1,  1, 1, -1, 1, 1, 1, -1,  1, -1, 1, 1, 1, 1,\n",
        "       -1,  -1, 1, 1, 1, -1, 1, 1,  1, 1, 1, 1, 1, 1,  -1, -1,  -1,\n",
        "       -1, 1, 1,  1, 1, 1, -1,  -1,  1,  1, -1, 1])\n",
        "\n",
        "print('\\n20 pixels wrong - ',perceptron.predict(inputs))\n",
        "\n",
        "\n",
        "print('\\n\\nADALINE------->Prediction\\n---------------------------\\n')\n",
        "\n",
        "\n",
        "\n",
        "# Font 3C\n",
        "inputs = np.array([1, 1,  -1,  1,  1, -1,  1, -1,  1, -1, -1, -1,  1,  1,  1, -1, -1,\n",
        "       -1, -1, -1,  1,  1, 1, -1, 1, 1, 1, 1,  -1, -1, -1, -1, 1, -1,\n",
        "       -1,  1, -1, 1, -1, -1, -1, -1,  -1, -1, -1, 1, -1, 1,  -1, -1,  1,\n",
        "       -1, 1, 1,  -1, 1, -1, -1,  1,  -1,  1, 1, -1])\n",
        "\n",
        "print('\\n5 pixels wrong - ',adaline.predict(inputs))\n",
        "\n",
        "# Font 3C\n",
        "inputs = np.array([-1, 1,  -1,  1,  1, -1,  1, -1,  1, -1, -1, -1,  1,  1,  1, -1, -1,\n",
        "       -1, -1, 1,  1,  1, 1, -1, -1, 1, 1, 1,  1, -1, -1, -1, -1, -1,\n",
        "       -1,  1, -1, 1, -1, -1, -1, 1,  1, 1, -1, 1, 1, 1,  -1, 1,  1,\n",
        "       -1, -1, 1,  1, 1, -1, -1,  -1,  -1,  1, 1, -1])\n",
        "\n",
        "print('\\n10 pixels wrong - ',adaline.predict(inputs))\n",
        "# Font 3C\n",
        "inputs = np.array([-1, 1,  -1,  -1,  1, -1,  1, 1,  1, -1, -1, -1,  -1,  1,  1, -1, -1,\n",
        "       -1, -1, 1,  1,  1, -1, -1, -1, 1, 1, 1,  1, -1, -1, -1, 1, -1,\n",
        "       -1,  -1, -1, 1, -1, -1, -1, 1,  1, -1, -1, 1, -1, 1,  -1, 1,  1,\n",
        "       -1, -1, 1,  -1, -1, -1, 1,  1,  -1,  1, 1, -1])\n",
        "\n",
        "print('\\n15 pixels wrong - ',adaline.predict(inputs))\n",
        "\n",
        "# Font 3C\n",
        "inputs = np.array([1, 1,  1,  1,  1, 1,  -1, 1,  1, -1, 1, -1,  1,  -1,  1, 1, 1,\n",
        "       -1, -1, 1,  -1,  1, 1, -1, 1, 1, 1, -1,  1, -1, 1, 1, 1, 1,\n",
        "       -1,  -1, 1, 1, 1, -1, 1, 1,  1, 1, 1, 1, 1, 1,  -1, -1,  -1,\n",
        "       -1, 1, 1,  1, 1, 1, -1,  -1,  1,  1, -1, 1])\n",
        "\n",
        "print('\\n20 pixels wrong - ',adaline.predict(inputs))"
      ],
      "execution_count": 11,
      "outputs": [
        {
          "output_type": "stream",
          "name": "stdout",
          "text": [
            "FONT 1\n",
            "-------\n",
            "\n",
            "PERCEPTRON----->Prediction\n",
            "----------------------------\n",
            "\n",
            "\n",
            "5 pixels wrong -  1\n",
            "\n",
            "10 pixels wrong -  0\n",
            "\n",
            "15 pixels wrong -  1\n",
            "\n",
            "20 pixels wrong -  1\n",
            "\n",
            "\n",
            "ADALINE------->Prediction\n",
            "---------------------------\n",
            "\n",
            "\n",
            "5 pixels wrong -  1\n",
            "\n",
            "10 pixels wrong -  1\n",
            "\n",
            "15 pixels wrong -  1\n",
            "\n",
            "20 pixels wrong -  1\n",
            "\n",
            "---------------------------------------------------------------------------------------------\n",
            "\n",
            "FONT 2\n",
            "-------\n",
            "\n",
            "PERCEPTRON----->Prediction\n",
            "----------------------------\n",
            "\n",
            "\n",
            "5 pixels wrong -  1\n",
            "\n",
            "10 pixels wrong -  1\n",
            "\n",
            "15 pixels wrong -  1\n",
            "\n",
            "20 pixels wrong -  1\n",
            "\n",
            "\n",
            "ADALINE------->Prediction\n",
            "---------------------------\n",
            "\n",
            "\n",
            "5 pixels wrong -  1\n",
            "\n",
            "10 pixels wrong -  1\n",
            "\n",
            "15 pixels wrong -  1\n",
            "\n",
            "20 pixels wrong -  1\n",
            "\n",
            "---------------------------------------------------------------------------------------------\n",
            "\n",
            "FONT 3\n",
            "-------\n",
            "\n",
            "PERCEPTRON----->Prediction\n",
            "----------------------------\n",
            "\n",
            "\n",
            "5 pixels wrong -  1\n",
            "\n",
            "10 pixels wrong -  1\n",
            "\n",
            "15 pixels wrong -  0\n",
            "\n",
            "20 pixels wrong -  1\n",
            "\n",
            "\n",
            "ADALINE------->Prediction\n",
            "---------------------------\n",
            "\n",
            "\n",
            "5 pixels wrong -  1\n",
            "\n",
            "10 pixels wrong -  1\n",
            "\n",
            "15 pixels wrong -  1\n",
            "\n",
            "20 pixels wrong -  -1\n"
          ]
        }
      ]
    },
    {
      "cell_type": "markdown",
      "metadata": {
        "id": "sWvt6W3EM_j_"
      },
      "source": [
        "**Missing data**"
      ]
    },
    {
      "cell_type": "markdown",
      "metadata": {
        "id": "jPDdsvIsvpHC"
      },
      "source": [
        "I am taking Input vector 'C' from every fonts and testing the 'Perceptron' and 'ADALINE'"
      ]
    },
    {
      "cell_type": "code",
      "metadata": {
        "id": "I5jlmbQH0T4b"
      },
      "source": [
        "# F1C\n",
        "# F2C\n",
        "# F3C\n"
      ],
      "execution_count": 12,
      "outputs": []
    },
    {
      "cell_type": "code",
      "metadata": {
        "id": "wNmqqNP-NfZ4",
        "colab": {
          "base_uri": "https://localhost:8080/"
        },
        "outputId": "3d1db6c0-6a9c-4d3a-a4ad-39b2f6f0bcaf"
      },
      "source": [
        "# Missing data(5, 10, 15, 20 pixels missing )\n",
        "# Perceptron\n",
        "\n",
        "print('FONT 1\\n-------\\n')\n",
        "print('PERCEPTRON----->Prediction\\n----------------------------\\n')\n",
        "\n",
        "# Font 1C - 5 pixels missing\n",
        "inputs = np.array([-1, -1,  np.nan,  1,  1,  1,  np.nan, -1,  1, -1, -1, np.nan, -1,  1,  1, -1, -1,\n",
        "       -1, -1, -1, -1,  1, -1, -1, -1, -1, -1, np.nan,  1, -1, -1, -1, -1, -1,\n",
        "       -1,  1, -1, -1, -1, -1, -1, -1,  1, -1, -1, -1, -1, -1, -1, -1,  1,\n",
        "       -1, -1, -1, -1,  1, -1, -1,  1,  1,  1,  np.nan, -1])\n",
        "print('\\n5 pixels wrong - ',perceptron.predict(inputs))\n",
        "\n",
        "# Font 1C - 10 pixels missing\n",
        "inputs = np.array([-1, np.nan,  1,  1,  1,  1,  np.nan, -1,  1, np.nan, -1, -1, np.nan,  1,  1, np.nan, -1,\n",
        "       -1, -1, -1, np.nan,  1, -1, -1, -1, -1, -1, -1,  1, -1, -1, -1, -1, -1,\n",
        "       -1,  1, -1, -1, -1, np.nan, -1, -1,  1, -1, -1, -1, np.nan, -1, -1, -1,  1,\n",
        "       -1, -1, np.nan, -1,  1, -1, -1,  1,  np.nan,  1,  1, -1])\n",
        "print('\\n10 pixels wrong - ',perceptron.predict(inputs))\n",
        "\n",
        "# Font 1C - 15 pixels missing\n",
        "inputs = np.array([np.nan, -1,  1,  1,  1,  np.nan,  1, -1,  np.nan, -1, -1, -1, np.nan,  1,  np.nan, -1, -1,\n",
        "       -1, -1, np.nan, -1,  np.nan, -1, -1, -1, -1, -1, -1,  1, np.nan, -1, -1, -1, np.nan,\n",
        "       -1,  1, np.nan, -1, -1, np.nan, -1, -1,  np.nan, -1, -1, -1, np.nan, -1, -1, -1,  1,\n",
        "       -1, -1, -1, -1,  1, -1, np.nan,  1,  1,  1,  np.nan, -1])\n",
        "print('\\n15 pixels wrong - ',perceptron.predict(inputs))\n",
        "\n",
        "# Font 1C - 20 pixels missing\n",
        "inputs = np.array([np.nan, -1,  1,  1,  np.nan,  1,  1, np.nan,  1, -1, np.nan, -1, -1,  np.nan,  1, np.nan, -1,\n",
        "       -1, np.nan, -1, np.nan,  1, np.nan, -1, -1, np.nan, -1, np.nan,  1, -1, np.nan, -1, np.nan, -1,\n",
        "       np.nan,  1, -1, np.nan, -1, -1, np.nan, -1,  1, -1, -1, -1, -1, -1, -1, np.nan,  1,\n",
        "       -1, -1, np.nan, -1,  1, np.nan, -1,  1,  np.nan,  1,  1, -1])\n",
        "print('\\n20 pixels wrong - ',perceptron.predict(inputs))\n",
        "\n",
        "# -------------------------------------------------------------------------------------\n",
        "\n",
        "\n",
        "\n",
        "print('\\n\\nADALINE------->Prediction\\n---------------------------\\n')\n",
        "\n",
        "# Font 1C - 5 pixels missing\n",
        "inputs = np.array([-1, -1,  np.nan,  1,  1,  1,  np.nan, -1,  1, -1, -1, np.nan, -1,  1,  1, -1, -1,\n",
        "       -1, -1, -1, -1,  1, -1, -1, -1, -1, -1, np.nan,  1, -1, -1, -1, -1, -1,\n",
        "       -1,  1, -1, -1, -1, -1, -1, -1,  1, -1, -1, -1, -1, -1, -1, -1,  1,\n",
        "       -1, -1, -1, -1,  1, -1, -1,  1,  1,  1,  np.nan, -1])\n",
        "print('\\n5 pixels wrong - ',adaline.predict(inputs))\n",
        "\n",
        "# Font 1C - 10 pixels missing\n",
        "inputs = np.array([-1, np.nan,  1,  1,  1,  1,  np.nan, -1,  1, np.nan, -1, -1, np.nan,  1,  1, np.nan, -1,\n",
        "       -1, -1, -1, np.nan,  1, -1, -1, -1, -1, -1, -1,  1, -1, -1, -1, -1, -1,\n",
        "       -1,  1, -1, -1, -1, np.nan, -1, -1,  1, -1, -1, -1, np.nan, -1, -1, -1,  1,\n",
        "       -1, -1, np.nan, -1,  1, -1, -1,  1,  np.nan,  1,  1, -1])\n",
        "print('\\n10 pixels wrong - ',adaline.predict(inputs))\n",
        "\n",
        "# Font 1C - 15 pixels missing\n",
        "inputs = np.array([np.nan, -1,  1,  1,  1,  np.nan,  1, -1,  np.nan, -1, -1, -1, np.nan,  1,  np.nan, -1, -1,\n",
        "       -1, -1, np.nan, -1,  np.nan, -1, -1, -1, -1, -1, -1,  1, np.nan, -1, -1, -1, np.nan,\n",
        "       -1,  1, np.nan, -1, -1, np.nan, -1, -1,  np.nan, -1, -1, -1, np.nan, -1, -1, -1,  1,\n",
        "       -1, -1, -1, -1,  1, -1, np.nan,  1,  1,  1,  np.nan, -1])\n",
        "print('\\n15 pixels wrong - ',adaline.predict(inputs))\n",
        "\n",
        "# Font 1C - 20 pixels missing\n",
        "inputs = np.array([np.nan, -1,  1,  1,  np.nan,  1,  1, np.nan,  1, -1, np.nan, -1, -1,  np.nan,  1, np.nan, -1,\n",
        "       -1, np.nan, -1, np.nan,  1, np.nan, -1, -1, np.nan, -1, np.nan,  1, -1, np.nan, -1, np.nan, -1,\n",
        "       np.nan,  1, -1, np.nan, -1, -1, np.nan, -1,  1, -1, -1, -1, -1, -1, -1, np.nan,  1,\n",
        "       -1, -1, np.nan, -1,  1, np.nan, -1,  1,  np.nan,  1,  1, -1])\n",
        "print('\\n20 pixels wrong - ',adaline.predict(inputs))\n",
        "\n",
        "# --------------------------------------------------------------------------------------------------------\n",
        "\n",
        "\n",
        "print('\\n---------------------------------------------------------------------------------------------\\n')\n",
        "print('FONT 2\\n-------\\n')\n",
        "print('PERCEPTRON----->Prediction\\n----------------------------\\n')\n",
        "\n",
        "# Font 2C\n",
        "inputs = np.array([-1, np.nan,  1,  1,  1, -1, -1, -1,  1, -1, -1, -1,  1, -1,  1, -1, -1,\n",
        "       -1, -1, -1,  1,  1, -1, -1, np.nan, -1, -1, -1,  1, -1, -1, -1, np.nan, -1,\n",
        "       -1,  1, -1, -1, -1, -1, -1, -1,  1, -1, -1, np.nan, -1, -1,  1, -1,  1,\n",
        "       -1, -1, -1,  1, -1, -1, -1,  1,  1,  1, -1, np.nan])\n",
        "\n",
        "print('\\n5 pixels missing - ',perceptron.predict(inputs))\n",
        "\n",
        "# Font 2C\n",
        "inputs = np.array([np.nan, -1,  1,  1,  1, -1, np.nan, -1,  1, np.nan, -1, -1,  1, -1,  np.nan, -1, -1,\n",
        "       -1, -1, -1,  1,  1, -1, np.nan, -1, -1, -1, -1,  1, np.nan, -1, -1, -1, -1,\n",
        "       -1,  1, -1, -1, np.nan, -1, -1, -1,  1, -1, -1, -1, -1, np.nan,  1, -1,  1,\n",
        "       -1, np.nan, -1,  1, -1, -1, -1,  np.nan,  1,  1, -1, -1])\n",
        "\n",
        "print('\\n10 pixels missing - ',perceptron.predict(inputs))\n",
        "\n",
        "# Font 2C\n",
        "inputs = np.array([np.nan, -1,  1,  1,  np.nan, -1, np.nan, -1,  1, -1, np.nan, -1,  1, np.nan,  1, -1, -1,\n",
        "       -1, np.nan, -1,  1,  np.nan, -1, -1, np.nan, -1, -1, np.nan,  1, -1, -1, np.nan, -1, -1,\n",
        "       -1,  np.nan, -1, np.nan, -1, -1, np.nan, -1,  1, -1, -1, -1, -1, -1,  1, np.nan,  1,\n",
        "       -1, -1, -1,  1, -1, -1, -1,  1,  1,  1, np.nan, -1])\n",
        "\n",
        "print('\\n15 pixels missing - ',perceptron.predict(inputs))\n",
        "\n",
        "# Font 2C\n",
        "inputs = np.array([np.nan, -1,  np.nan,  1,  np.nan, -1, np.nan, -1,  1, -1, np.nan, -1,  1, np.nan,  1, np.nan, -1,\n",
        "       -1, np.nan, -1,  1,  np.nan, -1, -1, np.nan, -1, -1, np.nan,  1, np.nan, -1, np.nan, -1, -1,\n",
        "       -1,  np.nan, -1, np.nan, -1, -1, np.nan, -1,  np.nan, -1, -1, -1, np.nan, -1,  1, np.nan,  1,\n",
        "       -1, -1, -1,  1, -1, -1, -1,  1,  1,  1, np.nan, -1])\n",
        "\n",
        "print('\\n20 pixels missing - ',perceptron.predict(inputs))\n",
        "\n",
        "\n",
        "print('\\n\\nADALINE------->Prediction\\n---------------------------\\n')\n",
        "\n",
        "# Font 2C\n",
        "\n",
        "\n",
        "inputs = np.array([-1, np.nan,  1,  1,  1, -1, -1, -1,  1, -1, -1, -1,  1, -1,  1, -1, -1,\n",
        "       -1, -1, -1,  1,  1, -1, -1, np.nan, -1, -1, -1,  1, -1, -1, -1, np.nan, -1,\n",
        "       -1,  1, -1, -1, -1, -1, -1, -1,  1, -1, -1, np.nan, -1, -1,  1, -1,  1,\n",
        "       -1, -1, -1,  1, -1, -1, -1,  1,  1,  1, -1, np.nan])\n",
        "\n",
        "print('\\n5 pixels wrong - ',adaline.predict(inputs))\n",
        "\n",
        "# Font 2C\n",
        "inputs = np.array([np.nan, -1,  1,  1,  1, -1, np.nan, -1,  1, np.nan, -1, -1,  1, -1,  np.nan, -1, -1,\n",
        "       -1, -1, -1,  1,  1, -1, np.nan, -1, -1, -1, -1,  1, np.nan, -1, -1, -1, -1,\n",
        "       -1,  1, -1, -1, np.nan, -1, -1, -1,  1, -1, -1, -1, -1, np.nan,  1, -1,  1,\n",
        "       -1, np.nan, -1,  1, -1, -1, -1,  np.nan,  1,  1, -1, -1])\n",
        "\n",
        "print('\\n10 pixels wrong - ',adaline.predict(inputs))\n",
        "\n",
        "# Font 2C\n",
        "inputs = np.array([np.nan, -1,  1,  1,  np.nan, -1, np.nan, -1,  1, -1, np.nan, -1,  1, np.nan,  1, -1, -1,\n",
        "       -1, np.nan, -1,  1,  np.nan, -1, -1, np.nan, -1, -1, np.nan,  1, -1, -1, np.nan, -1, -1,\n",
        "       -1,  np.nan, -1, np.nan, -1, -1, np.nan, -1,  1, -1, -1, -1, -1, -1,  1, np.nan,  1,\n",
        "       -1, -1, -1,  1, -1, -1, -1,  1,  1,  1, np.nan, -1])\n",
        "\n",
        "print('\\n15 pixels wrong - ',adaline.predict(inputs))\n",
        "\n",
        "# Font 2C\n",
        "inputs = np.array([np.nan, -1,  np.nan,  1,  np.nan, -1, np.nan, -1,  1, -1, np.nan, -1,  1, np.nan,  1, np.nan, -1,\n",
        "       -1, np.nan, -1,  1,  np.nan, -1, -1, np.nan, -1, -1, np.nan,  1, np.nan, -1, np.nan, -1, -1,\n",
        "       -1,  np.nan, -1, np.nan, -1, -1, np.nan, -1,  np.nan, -1, -1, -1, np.nan, -1,  1, np.nan,  1,\n",
        "       -1, -1, -1,  1, -1, -1, -1,  1,  1,  1, np.nan, -1])\n",
        "\n",
        "print('\\n20 pixels wrong - ',adaline.predict(inputs))\n",
        "\n",
        "\n",
        "# --------------------------------------------------------------------------------------------\n",
        "\n",
        "\n",
        "\n",
        "print(\"\\n---------------------------------------------------------------------------------------------\\n\")\n",
        "print('FONT 3\\n-------\\n')\n",
        "print('PERCEPTRON----->Prediction\\n----------------------------\\n')\n",
        "\n",
        "# Font 3C\n",
        "\n",
        "inputs = np.array([np.nan, -1,  1,  1,  1, -1,  1, -1,  1, -1, -1, -1,  1,  1,  1, -1, -1,\n",
        "       -1, -1, -1,  1,  1, -1, -1, -1, np.nan, -1, -1,  np.nan, -1, np.nan, -1, np.nan, -1,\n",
        "       -1,  1, -1, -1, -1, -1, -1, -1,  1, -1, -1, -1, -1, -1,  1, -1,  1,\n",
        "       -1, -1, -1,  1, -1, -1, -1,  1,  1,  1, -1, -1])\n",
        "\n",
        "print('\\n5 pixels wrong - ',perceptron.predict(inputs))\n",
        "\n",
        "# Font 3C\n",
        "inputs = np.array([np.nan, -1,  1,  1,  1, -1,  1, -1,  1, -1, -1, -1,  1,  1,  1, -1, -1,\n",
        "       -1, -1, -1,  1,  1, -1, -1, -1, np.nan, -1, -1,  np.nan, -1, np.nan, -1, np.nan, -1,\n",
        "       -1,  np.nan, -1, np.nan, -1, -1, -1, np.nan,  1, -1, -1, -1, -1, -1,  1, -1,  1,\n",
        "       -1, -1, -1,  1, -1, np.nan, -1,  1,  1,  1, np.nan, -1])\n",
        "\n",
        "print('\\n10 pixels wrong - ',perceptron.predict(inputs))\n",
        "# Font 3C\n",
        "inputs = np.array([np.nan, -1,  np.nan,  1,  1, -1,  1, np.nan,  1, -1, np.nan, -1,  1,  1,  np.nan, -1, -1,\n",
        "       -1, -1, -1,  1,  1, -1, -1, -1, np.nan, -1, -1,  np.nan, -1, np.nan, -1, np.nan, -1,\n",
        "       -1,  np.nan, -1, np.nan, -1, -1, -1, np.nan,  1, -1, -1, -1, -1, -1,  1, -1,  1,\n",
        "       -1, -1, np.nan,  1, -1, np.nan, -1,  1,  1,  1, np.nan, -1])\n",
        "\n",
        "print('\\n15 pixels wrong - ',perceptron.predict(inputs))\n",
        "\n",
        "# Font 3C\n",
        "inputs = np.array([np.nan, -1,  np.nan,  1,  1, np.nan,  1, np.nan,  1, -1, np.nan, -1,  np.nan,  1,  np.nan, -1, -1,\n",
        "       -1, -1, -1,  1,  np.nan, -1, -1, -1, np.nan, -1, -1,  np.nan, -1, np.nan, -1, np.nan, -1,\n",
        "       -1,  np.nan, -1, np.nan, -1, -1, -1, np.nan,  1, -1, -1, -1, -1, np.nan,  1, np.nan,  1,\n",
        "       -1, -1, np.nan,  1, -1, np.nan, -1,  1,  1,  1, np.nan, -1])\n",
        "\n",
        "print('\\n20 pixels wrong - ',perceptron.predict(inputs))\n",
        "\n",
        "\n",
        "print('\\n\\nADALINE------->Prediction\\n---------------------------\\n')\n",
        "\n",
        "\n",
        "\n",
        "# Font 3C\n",
        "inputs = np.array([np.nan, -1,  1,  1,  1, -1,  1, -1,  1, -1, -1, -1,  1,  1,  1, -1, -1,\n",
        "       -1, -1, -1,  1,  1, -1, -1, -1, np.nan, -1, -1,  np.nan, -1, np.nan, -1, np.nan, -1,\n",
        "       -1,  1, -1, -1, -1, -1, -1, -1,  1, -1, -1, -1, -1, -1,  1, -1,  1,\n",
        "       -1, -1, -1,  1, -1, -1, -1,  1,  1,  1, -1, -1])\n",
        "\n",
        "print('\\n5 pixels wrong - ',adaline.predict(inputs))\n",
        "\n",
        "# Font 3C\n",
        "inputs = np.array([np.nan, -1,  1,  1,  1, -1,  1, -1,  1, -1, -1, -1,  1,  1,  1, -1, -1,\n",
        "       -1, -1, -1,  1,  1, -1, -1, -1, np.nan, -1, -1,  np.nan, -1, np.nan, -1, np.nan, -1,\n",
        "       -1,  np.nan, -1, np.nan, -1, -1, -1, np.nan,  1, -1, -1, -1, -1, -1,  1, -1,  1,\n",
        "       -1, -1, -1,  1, -1, np.nan, -1,  1,  1,  1, np.nan, -1])\n",
        "\n",
        "print('\\n10 pixels wrong - ',adaline.predict(inputs))\n",
        "# Font 3C\n",
        "inputs = np.array([np.nan, -1,  np.nan,  1,  1, -1,  1, np.nan,  1, -1, np.nan, -1,  1,  1,  np.nan, -1, -1,\n",
        "       -1, -1, -1,  1,  1, -1, -1, -1, np.nan, -1, -1,  np.nan, -1, np.nan, -1, np.nan, -1,\n",
        "       -1,  np.nan, -1, np.nan, -1, -1, -1, np.nan,  1, -1, -1, -1, -1, -1,  1, -1,  1,\n",
        "       -1, -1, np.nan,  1, -1, np.nan, -1,  1,  1,  1, np.nan, -1])\n",
        "\n",
        "print('\\n15 pixels wrong - ',adaline.predict(inputs))\n",
        "\n",
        "# Font 3C\n",
        "inputs = np.array([np.nan, -1,  np.nan,  1,  1, np.nan,  1, np.nan,  1, -1, np.nan, -1,  np.nan,  1,  np.nan, -1, -1,\n",
        "       -1, -1, -1,  1,  np.nan, -1, -1, -1, np.nan, -1, -1,  np.nan, -1, np.nan, -1, np.nan, -1,\n",
        "       -1,  np.nan, -1, np.nan, -1, -1, -1, np.nan,  1, -1, -1, -1, -1, np.nan,  1, np.nan,  1,\n",
        "       -1, -1, np.nan,  1, -1, np.nan, -1,  1,  1,  1, np.nan, -1])\n",
        "\n",
        "print('\\n20 pixels wrong - ',adaline.predict(inputs))"
      ],
      "execution_count": 13,
      "outputs": [
        {
          "output_type": "stream",
          "name": "stdout",
          "text": [
            "FONT 1\n",
            "-------\n",
            "\n",
            "PERCEPTRON----->Prediction\n",
            "----------------------------\n",
            "\n",
            "\n",
            "5 pixels wrong -  0\n",
            "\n",
            "10 pixels wrong -  0\n",
            "\n",
            "15 pixels wrong -  0\n",
            "\n",
            "20 pixels wrong -  0\n",
            "\n",
            "\n",
            "ADALINE------->Prediction\n",
            "---------------------------\n",
            "\n",
            "\n",
            "5 pixels wrong -  -1\n",
            "\n",
            "10 pixels wrong -  -1\n",
            "\n",
            "15 pixels wrong -  -1\n",
            "\n",
            "20 pixels wrong -  -1\n",
            "\n",
            "---------------------------------------------------------------------------------------------\n",
            "\n",
            "FONT 2\n",
            "-------\n",
            "\n",
            "PERCEPTRON----->Prediction\n",
            "----------------------------\n",
            "\n",
            "\n",
            "5 pixels missing -  0\n",
            "\n",
            "10 pixels missing -  0\n",
            "\n",
            "15 pixels missing -  0\n",
            "\n",
            "20 pixels missing -  0\n",
            "\n",
            "\n",
            "ADALINE------->Prediction\n",
            "---------------------------\n",
            "\n",
            "\n",
            "5 pixels wrong -  -1\n",
            "\n",
            "10 pixels wrong -  -1\n",
            "\n",
            "15 pixels wrong -  -1\n",
            "\n",
            "20 pixels wrong -  -1\n",
            "\n",
            "---------------------------------------------------------------------------------------------\n",
            "\n",
            "FONT 3\n",
            "-------\n",
            "\n",
            "PERCEPTRON----->Prediction\n",
            "----------------------------\n",
            "\n",
            "\n",
            "5 pixels wrong -  0\n",
            "\n",
            "10 pixels wrong -  0\n",
            "\n",
            "15 pixels wrong -  0\n",
            "\n",
            "20 pixels wrong -  0\n",
            "\n",
            "\n",
            "ADALINE------->Prediction\n",
            "---------------------------\n",
            "\n",
            "\n",
            "5 pixels wrong -  -1\n",
            "\n",
            "10 pixels wrong -  -1\n",
            "\n",
            "15 pixels wrong -  -1\n",
            "\n",
            "20 pixels wrong -  -1\n"
          ]
        }
      ]
    }
  ]
}